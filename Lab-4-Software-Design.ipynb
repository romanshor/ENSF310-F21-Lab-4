{
 "cells": [
  {
   "cell_type": "markdown",
   "metadata": {},
   "source": [
    "#### <h1> <center> ENSF 310 </center></h1>\n",
    "<h2> <center> Lab 4: Software Design Process</center></h2>\n",
    "\n",
    "\n"
   ]
  },
  {
   "cell_type": "markdown",
   "metadata": {},
   "source": [
    "Edit this file and write your solutions to the problems in the empty markdown blocks. Once you are done, check your lab into your github repository for full marks."
   ]
  },
  {
   "cell_type": "markdown",
   "metadata": {},
   "source": [
    "# Software Design\n",
    "\n",
    "## Problem Statement\n",
    "You have been asked to develop a simulator for the <a href=\"https://nanoleaf.me/en-CA/products/nanoleaf-light-panels/\">Nanoleaf light panels</a> installation outside of the the Zetta space on the 2nd floor of ICT.  This simulator will be used to test possible interactive displays.  A photo of the installation is below.\n",
    "\n",
    "<img src=\"20210907_100728.JPG\" width=800/>\n",
    "\n",
    "An example of another extensive installation can be found <a href=\"https://inhabitat.com/nanoleafs-terra-light-wall-paints-arctic-landscapes-with-1200-color-changing-leds/\">here</a>.\n",
    "\n",
    "**NOTE**: You do not have to write any code as part of this lab!"
   ]
  },
  {
   "cell_type": "markdown",
   "metadata": {},
   "source": [
    "### 1. Inception Phase\n",
    "Spend some time brainstorming alternatives which you may consider and whether you think this simulator is technically feasibly.  Things to consider include programming language, libraries, existing toolkits, existing software, etc.  \n",
    "\n",
    "In the space below, describe any alternatives and the technical/economic feasiblity.  You must discuss at least three alternatives."
   ]
  },
  {
   "cell_type": "markdown",
   "metadata": {},
   "source": []
  },
  {
   "cell_type": "markdown",
   "metadata": {},
   "source": [
    "### 2. Requirement Analysis Phase\n",
    "In the space below, analyze the requirements.  State which ones are given by the problem statement and which are assumptions.\n",
    "\n",
    "Your requirements must be **testable**."
   ]
  },
  {
   "cell_type": "markdown",
   "metadata": {},
   "source": []
  },
  {
   "cell_type": "markdown",
   "metadata": {},
   "source": [
    "### 3. Design Phase\n",
    "In the space below, describe the software design and architecture.  You may use Jupyter markdown to create tables to organize your thoughts.  Your design should include the input and outputs of any functions."
   ]
  },
  {
   "cell_type": "markdown",
   "metadata": {},
   "source": []
  },
  {
   "cell_type": "markdown",
   "metadata": {},
   "source": [
    "### 4. Construction Phase\n",
    "What information is necessary to do the actual software development?  **Note**: you do not have to code your design."
   ]
  },
  {
   "cell_type": "markdown",
   "metadata": {},
   "source": []
  },
  {
   "cell_type": "markdown",
   "metadata": {},
   "source": [
    "### 5. Testing Phase\n",
    "How would you test your implementation?"
   ]
  },
  {
   "cell_type": "markdown",
   "metadata": {},
   "source": []
  },
  {
   "cell_type": "markdown",
   "metadata": {},
   "source": [
    "### 6. Maintenance\n",
    "What maintenance would be necessary?"
   ]
  },
  {
   "cell_type": "markdown",
   "metadata": {},
   "source": []
  }
 ],
 "metadata": {
  "kernelspec": {
   "display_name": "Python 3",
   "language": "python",
   "name": "python3"
  },
  "language_info": {
   "codemirror_mode": {
    "name": "ipython",
    "version": 3
   },
   "file_extension": ".py",
   "mimetype": "text/x-python",
   "name": "python",
   "nbconvert_exporter": "python",
   "pygments_lexer": "ipython3",
   "version": "3.7.1"
  }
 },
 "nbformat": 4,
 "nbformat_minor": 2
}
